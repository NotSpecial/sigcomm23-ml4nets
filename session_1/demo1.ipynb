{
 "cells": [
  {
   "cell_type": "markdown",
   "id": "4ea5478e-9511-4b00-9ee2-39ceba363d18",
   "metadata": {},
   "source": [
    "# Demo 1: typical ML pipeline"
   ]
  },
  {
   "cell_type": "markdown",
   "id": "6616cc6b-160f-4c4b-8218-19e551cb003d",
   "metadata": {},
   "source": [
    "## Data preprocessing: CICFlowMeter"
   ]
  },
  {
   "cell_type": "markdown",
   "id": "957680c2-d473-4002-b3ae-1b024bdb6d74",
   "metadata": {},
   "source": [
    "## Data cleaning"
   ]
  },
  {
   "cell_type": "code",
   "execution_count": 1,
   "id": "438218f1-c8ba-41a5-bbb8-18b1883553f5",
   "metadata": {},
   "outputs": [],
   "source": [
    "import pandas as pd"
   ]
  },
  {
   "cell_type": "code",
   "execution_count": 2,
   "id": "e7fc1364-5b9b-48f6-adb9-a86a35b19d8d",
   "metadata": {},
   "outputs": [
    {
     "name": "stdout",
     "output_type": "stream",
     "text": [
      "Index(['Flow ID', 'Src IP', 'Src Port', 'Dst IP', 'Dst Port', 'Protocol',\n",
      "       'Timestamp', 'Flow Duration', 'Total Fwd Packet', 'Total Bwd packets',\n",
      "       'Total Length of Fwd Packet', 'Total Length of Bwd Packet',\n",
      "       'Fwd Packet Length Max', 'Fwd Packet Length Min',\n",
      "       'Fwd Packet Length Mean', 'Fwd Packet Length Std',\n",
      "       'Bwd Packet Length Max', 'Bwd Packet Length Min',\n",
      "       'Bwd Packet Length Mean', 'Bwd Packet Length Std', 'Flow Bytes/s',\n",
      "       'Flow Packets/s', 'Flow IAT Mean', 'Flow IAT Std', 'Flow IAT Max',\n",
      "       'Flow IAT Min', 'Fwd IAT Total', 'Fwd IAT Mean', 'Fwd IAT Std',\n",
      "       'Fwd IAT Max', 'Fwd IAT Min', 'Bwd IAT Total', 'Bwd IAT Mean',\n",
      "       'Bwd IAT Std', 'Bwd IAT Max', 'Bwd IAT Min', 'Fwd PSH Flags',\n",
      "       'Bwd PSH Flags', 'Fwd URG Flags', 'Bwd URG Flags', 'Fwd Header Length',\n",
      "       'Bwd Header Length', 'Fwd Packets/s', 'Bwd Packets/s',\n",
      "       'Packet Length Min', 'Packet Length Max', 'Packet Length Mean',\n",
      "       'Packet Length Std', 'Packet Length Variance', 'FIN Flag Count',\n",
      "       'SYN Flag Count', 'RST Flag Count', 'PSH Flag Count', 'ACK Flag Count',\n",
      "       'URG Flag Count', 'CWR Flag Count', 'ECE Flag Count', 'Down/Up Ratio',\n",
      "       'Average Packet Size', 'Fwd Segment Size Avg', 'Bwd Segment Size Avg',\n",
      "       'Fwd Bytes/Bulk Avg', 'Fwd Packet/Bulk Avg', 'Fwd Bulk Rate Avg',\n",
      "       'Bwd Bytes/Bulk Avg', 'Bwd Packet/Bulk Avg', 'Bwd Bulk Rate Avg',\n",
      "       'Subflow Fwd Packets', 'Subflow Fwd Bytes', 'Subflow Bwd Packets',\n",
      "       'Subflow Bwd Bytes', 'FWD Init Win Bytes', 'Bwd Init Win Bytes',\n",
      "       'Fwd Act Data Pkts', 'Fwd Seg Size Min', 'Active Mean', 'Active Std',\n",
      "       'Active Max', 'Active Min', 'Idle Mean', 'Idle Std', 'Idle Max',\n",
      "       'Idle Min', 'Label'],\n",
      "      dtype='object')\n"
     ]
    }
   ],
   "source": [
    "df_youtube = pd.read_csv(\"./capture_youtube.pcap_Flow.csv\")\n",
    "df_vimeo = pd.read_csv(\"./capture_vimeo.pcap_Flow.csv\")\n",
    "\n",
    "print(df_youtube.columns)   # these are all columns that CICFlowMeter uses"
   ]
  },
  {
   "cell_type": "code",
   "execution_count": 3,
   "id": "a8ecda62-cebe-48c7-9ff6-d468905eeebc",
   "metadata": {},
   "outputs": [
    {
     "data": {
      "text/html": [
       "<div>\n",
       "<style scoped>\n",
       "    .dataframe tbody tr th:only-of-type {\n",
       "        vertical-align: middle;\n",
       "    }\n",
       "\n",
       "    .dataframe tbody tr th {\n",
       "        vertical-align: top;\n",
       "    }\n",
       "\n",
       "    .dataframe thead th {\n",
       "        text-align: right;\n",
       "    }\n",
       "</style>\n",
       "<table border=\"1\" class=\"dataframe\">\n",
       "  <thead>\n",
       "    <tr style=\"text-align: right;\">\n",
       "      <th></th>\n",
       "      <th>Flow ID</th>\n",
       "      <th>Src IP</th>\n",
       "      <th>Src Port</th>\n",
       "      <th>Dst IP</th>\n",
       "      <th>Dst Port</th>\n",
       "      <th>Protocol</th>\n",
       "      <th>Timestamp</th>\n",
       "      <th>Flow Duration</th>\n",
       "      <th>Total Fwd Packet</th>\n",
       "      <th>Total Bwd packets</th>\n",
       "      <th>...</th>\n",
       "      <th>Fwd Seg Size Min</th>\n",
       "      <th>Active Mean</th>\n",
       "      <th>Active Std</th>\n",
       "      <th>Active Max</th>\n",
       "      <th>Active Min</th>\n",
       "      <th>Idle Mean</th>\n",
       "      <th>Idle Std</th>\n",
       "      <th>Idle Max</th>\n",
       "      <th>Idle Min</th>\n",
       "      <th>Label</th>\n",
       "    </tr>\n",
       "  </thead>\n",
       "  <tbody>\n",
       "    <tr>\n",
       "      <th>0</th>\n",
       "      <td>172.18.0.10-142.250.190.150-40062-443-6</td>\n",
       "      <td>172.18.0.10</td>\n",
       "      <td>40062</td>\n",
       "      <td>142.250.190.150</td>\n",
       "      <td>443</td>\n",
       "      <td>6</td>\n",
       "      <td>08/09/2023 10:23:59 AM</td>\n",
       "      <td>77864</td>\n",
       "      <td>7</td>\n",
       "      <td>5</td>\n",
       "      <td>...</td>\n",
       "      <td>20</td>\n",
       "      <td>0.0</td>\n",
       "      <td>0.0</td>\n",
       "      <td>0.0</td>\n",
       "      <td>0.0</td>\n",
       "      <td>0.0</td>\n",
       "      <td>0.0</td>\n",
       "      <td>0.0</td>\n",
       "      <td>0.0</td>\n",
       "      <td>NeedManualLabel</td>\n",
       "    </tr>\n",
       "    <tr>\n",
       "      <th>1</th>\n",
       "      <td>172.18.0.10-142.250.191.246-41358-443-6</td>\n",
       "      <td>172.18.0.10</td>\n",
       "      <td>41358</td>\n",
       "      <td>142.250.191.246</td>\n",
       "      <td>443</td>\n",
       "      <td>6</td>\n",
       "      <td>08/09/2023 10:23:59 AM</td>\n",
       "      <td>102287</td>\n",
       "      <td>7</td>\n",
       "      <td>6</td>\n",
       "      <td>...</td>\n",
       "      <td>32</td>\n",
       "      <td>0.0</td>\n",
       "      <td>0.0</td>\n",
       "      <td>0.0</td>\n",
       "      <td>0.0</td>\n",
       "      <td>0.0</td>\n",
       "      <td>0.0</td>\n",
       "      <td>0.0</td>\n",
       "      <td>0.0</td>\n",
       "      <td>NeedManualLabel</td>\n",
       "    </tr>\n",
       "    <tr>\n",
       "      <th>2</th>\n",
       "      <td>172.18.0.10-142.250.190.142-39258-443-6</td>\n",
       "      <td>172.18.0.10</td>\n",
       "      <td>39258</td>\n",
       "      <td>142.250.190.142</td>\n",
       "      <td>443</td>\n",
       "      <td>6</td>\n",
       "      <td>08/09/2023 10:24:14 AM</td>\n",
       "      <td>67573</td>\n",
       "      <td>7</td>\n",
       "      <td>5</td>\n",
       "      <td>...</td>\n",
       "      <td>20</td>\n",
       "      <td>0.0</td>\n",
       "      <td>0.0</td>\n",
       "      <td>0.0</td>\n",
       "      <td>0.0</td>\n",
       "      <td>0.0</td>\n",
       "      <td>0.0</td>\n",
       "      <td>0.0</td>\n",
       "      <td>0.0</td>\n",
       "      <td>NeedManualLabel</td>\n",
       "    </tr>\n",
       "    <tr>\n",
       "      <th>3</th>\n",
       "      <td>172.18.0.10-142.250.190.142-39248-443-6</td>\n",
       "      <td>172.18.0.10</td>\n",
       "      <td>39248</td>\n",
       "      <td>142.250.190.142</td>\n",
       "      <td>443</td>\n",
       "      <td>6</td>\n",
       "      <td>08/09/2023 10:24:14 AM</td>\n",
       "      <td>81246</td>\n",
       "      <td>7</td>\n",
       "      <td>5</td>\n",
       "      <td>...</td>\n",
       "      <td>20</td>\n",
       "      <td>0.0</td>\n",
       "      <td>0.0</td>\n",
       "      <td>0.0</td>\n",
       "      <td>0.0</td>\n",
       "      <td>0.0</td>\n",
       "      <td>0.0</td>\n",
       "      <td>0.0</td>\n",
       "      <td>0.0</td>\n",
       "      <td>NeedManualLabel</td>\n",
       "    </tr>\n",
       "    <tr>\n",
       "      <th>4</th>\n",
       "      <td>172.18.0.10-172.18.0.6-40562-26512-6</td>\n",
       "      <td>172.18.0.10</td>\n",
       "      <td>40562</td>\n",
       "      <td>172.18.0.6</td>\n",
       "      <td>26512</td>\n",
       "      <td>6</td>\n",
       "      <td>08/09/2023 10:24:18 AM</td>\n",
       "      <td>15813</td>\n",
       "      <td>6</td>\n",
       "      <td>5</td>\n",
       "      <td>...</td>\n",
       "      <td>32</td>\n",
       "      <td>0.0</td>\n",
       "      <td>0.0</td>\n",
       "      <td>0.0</td>\n",
       "      <td>0.0</td>\n",
       "      <td>0.0</td>\n",
       "      <td>0.0</td>\n",
       "      <td>0.0</td>\n",
       "      <td>0.0</td>\n",
       "      <td>NeedManualLabel</td>\n",
       "    </tr>\n",
       "  </tbody>\n",
       "</table>\n",
       "<p>5 rows × 84 columns</p>\n",
       "</div>"
      ],
      "text/plain": [
       "                                   Flow ID       Src IP  Src Port  \\\n",
       "0  172.18.0.10-142.250.190.150-40062-443-6  172.18.0.10     40062   \n",
       "1  172.18.0.10-142.250.191.246-41358-443-6  172.18.0.10     41358   \n",
       "2  172.18.0.10-142.250.190.142-39258-443-6  172.18.0.10     39258   \n",
       "3  172.18.0.10-142.250.190.142-39248-443-6  172.18.0.10     39248   \n",
       "4     172.18.0.10-172.18.0.6-40562-26512-6  172.18.0.10     40562   \n",
       "\n",
       "            Dst IP  Dst Port  Protocol               Timestamp  Flow Duration  \\\n",
       "0  142.250.190.150       443         6  08/09/2023 10:23:59 AM          77864   \n",
       "1  142.250.191.246       443         6  08/09/2023 10:23:59 AM         102287   \n",
       "2  142.250.190.142       443         6  08/09/2023 10:24:14 AM          67573   \n",
       "3  142.250.190.142       443         6  08/09/2023 10:24:14 AM          81246   \n",
       "4       172.18.0.6     26512         6  08/09/2023 10:24:18 AM          15813   \n",
       "\n",
       "   Total Fwd Packet  Total Bwd packets  ...  Fwd Seg Size Min  Active Mean  \\\n",
       "0                 7                  5  ...                20          0.0   \n",
       "1                 7                  6  ...                32          0.0   \n",
       "2                 7                  5  ...                20          0.0   \n",
       "3                 7                  5  ...                20          0.0   \n",
       "4                 6                  5  ...                32          0.0   \n",
       "\n",
       "   Active Std  Active Max  Active Min  Idle Mean  Idle Std  Idle Max  \\\n",
       "0         0.0         0.0         0.0        0.0       0.0       0.0   \n",
       "1         0.0         0.0         0.0        0.0       0.0       0.0   \n",
       "2         0.0         0.0         0.0        0.0       0.0       0.0   \n",
       "3         0.0         0.0         0.0        0.0       0.0       0.0   \n",
       "4         0.0         0.0         0.0        0.0       0.0       0.0   \n",
       "\n",
       "   Idle Min            Label  \n",
       "0       0.0  NeedManualLabel  \n",
       "1       0.0  NeedManualLabel  \n",
       "2       0.0  NeedManualLabel  \n",
       "3       0.0  NeedManualLabel  \n",
       "4       0.0  NeedManualLabel  \n",
       "\n",
       "[5 rows x 84 columns]"
      ]
     },
     "execution_count": 3,
     "metadata": {},
     "output_type": "execute_result"
    }
   ],
   "source": [
    "df_youtube.head()"
   ]
  },
  {
   "cell_type": "code",
   "execution_count": 4,
   "id": "5da21193-26f7-44cc-86ec-469292962d27",
   "metadata": {},
   "outputs": [],
   "source": [
    "df_youtube['Label'] = 'other'\n",
    "df_youtube.loc[(df_youtube['Total Fwd Packet'] > 30) | (df_youtube['Total Bwd packets'] > 30), 'Label'] = 'youtube'  \n",
    "df_youtube = df_youtube.drop(df_youtube[(df_youtube['Protocol'] == 17) & (df_youtube['Label'] != 'youtube')].index)"
   ]
  },
  {
   "cell_type": "code",
   "execution_count": 5,
   "id": "6ae170e8-51fc-4d80-b24d-76abbd2690cb",
   "metadata": {
    "scrolled": true
   },
   "outputs": [],
   "source": [
    "df_vimeo['Label'] = 'other'\n",
    "df_vimeo.loc[(df_vimeo['Total Fwd Packet'] > 30) | (df_vimeo['Total Bwd packets'] > 30), 'Label'] = 'vimeo'\n",
    "df_vimeo = df_vimeo.drop(df_vimeo[(df_vimeo['Protocol'] == 17) & (df_vimeo['Label'] != 'vimeo')].index)"
   ]
  },
  {
   "cell_type": "code",
   "execution_count": 6,
   "id": "6c853d4e-c0d6-4c27-b7d9-a460cbf8288f",
   "metadata": {},
   "outputs": [],
   "source": [
    "df = pd.concat([df_youtube, df_vimeo], ignore_index=True)\n",
    "df = df.drop(['Flow ID', 'Src IP', 'Src Port', 'Dst IP', 'Dst Port', 'Timestamp'], axis=1)\n",
    "df = df.dropna()  # remove rows with Nones"
   ]
  },
  {
   "cell_type": "markdown",
   "id": "624ffd88-1c4d-4a9a-b51b-ea9feac4ea56",
   "metadata": {},
   "source": [
    "## Model training"
   ]
  },
  {
   "cell_type": "code",
   "execution_count": 7,
   "id": "cce3e33c-e454-401e-ae5b-f20340ee30e5",
   "metadata": {},
   "outputs": [],
   "source": [
    "from sklearn.ensemble import RandomForestClassifier, GradientBoostingClassifier\n",
    "from sklearn.neural_network import MLPClassifier\n",
    "from sklearn.model_selection import train_test_split\n",
    "from sklearn import metrics"
   ]
  },
  {
   "cell_type": "code",
   "execution_count": 8,
   "id": "acc94acf-4a28-4c41-b5df-45e4fbf4a428",
   "metadata": {},
   "outputs": [],
   "source": [
    "target_variable = 'Label'\n",
    "train_features = list(set(df.columns) - {target_variable})\n",
    "X = df[train_features]\n",
    "y = df[target_variable]"
   ]
  },
  {
   "cell_type": "code",
   "execution_count": 9,
   "id": "fe4491f2-727f-4ed5-8213-5f37b18fc557",
   "metadata": {},
   "outputs": [],
   "source": [
    "X_train, X_test, y_train, y_test = train_test_split(X, y, test_size=0.2)"
   ]
  },
  {
   "cell_type": "code",
   "execution_count": 10,
   "id": "686da6ad-84c6-4d4a-a139-4a14fb434b4f",
   "metadata": {},
   "outputs": [],
   "source": [
    "classifiers = [\n",
    "    RandomForestClassifier(),\n",
    "    GradientBoostingClassifier(),\n",
    "    MLPClassifier(),\n",
    "]"
   ]
  },
  {
   "cell_type": "code",
   "execution_count": 11,
   "id": "4000f534-b2e4-4f15-bafc-2e314daa0ce8",
   "metadata": {},
   "outputs": [],
   "source": [
    "for clf in classifiers:\n",
    "    clf.fit(X_train, y_train)"
   ]
  },
  {
   "cell_type": "code",
   "execution_count": 12,
   "id": "c6c498e1-3df4-4aeb-9da7-7c97a48ec8c3",
   "metadata": {},
   "outputs": [
    {
     "name": "stdout",
     "output_type": "stream",
     "text": [
      "RandomForestClassifier()\n",
      "              precision    recall  f1-score   support\n",
      "\n",
      "       other       1.00      1.00      1.00      2071\n",
      "       vimeo       1.00      1.00      1.00       187\n",
      "     youtube       1.00      1.00      1.00       228\n",
      "\n",
      "    accuracy                           1.00      2486\n",
      "   macro avg       1.00      1.00      1.00      2486\n",
      "weighted avg       1.00      1.00      1.00      2486\n",
      "\n",
      "\n",
      "GradientBoostingClassifier()\n",
      "              precision    recall  f1-score   support\n",
      "\n",
      "       other       1.00      1.00      1.00      2071\n",
      "       vimeo       1.00      1.00      1.00       187\n",
      "     youtube       1.00      1.00      1.00       228\n",
      "\n",
      "    accuracy                           1.00      2486\n",
      "   macro avg       1.00      1.00      1.00      2486\n",
      "weighted avg       1.00      1.00      1.00      2486\n",
      "\n",
      "\n",
      "MLPClassifier()\n",
      "              precision    recall  f1-score   support\n",
      "\n",
      "       other       0.97      1.00      0.98      2071\n",
      "       vimeo       0.96      0.70      0.81       187\n",
      "     youtube       0.98      0.89      0.93       228\n",
      "\n",
      "    accuracy                           0.97      2486\n",
      "   macro avg       0.97      0.86      0.91      2486\n",
      "weighted avg       0.97      0.97      0.97      2486\n",
      "\n",
      "\n"
     ]
    },
    {
     "name": "stderr",
     "output_type": "stream",
     "text": [
      "/home/kell/miniconda3/envs/sigcomm-tutorial/lib/python3.11/site-packages/sklearn/base.py:439: UserWarning: X does not have valid feature names, but RandomForestClassifier was fitted with feature names\n",
      "  warnings.warn(\n",
      "/home/kell/miniconda3/envs/sigcomm-tutorial/lib/python3.11/site-packages/sklearn/base.py:439: UserWarning: X does not have valid feature names, but GradientBoostingClassifier was fitted with feature names\n",
      "  warnings.warn(\n",
      "/home/kell/miniconda3/envs/sigcomm-tutorial/lib/python3.11/site-packages/sklearn/base.py:439: UserWarning: X does not have valid feature names, but MLPClassifier was fitted with feature names\n",
      "  warnings.warn(\n"
     ]
    }
   ],
   "source": [
    "for clf in classifiers:\n",
    "    print(clf)\n",
    "    y_pred = clf.predict(X_train.values)\n",
    "    print(metrics.classification_report(y_train, y_pred))\n",
    "    print()"
   ]
  },
  {
   "cell_type": "code",
   "execution_count": 13,
   "id": "bb981e5e-8ac2-4f4b-9a30-7b0e112ec685",
   "metadata": {},
   "outputs": [
    {
     "name": "stdout",
     "output_type": "stream",
     "text": [
      "RandomForestClassifier()\n",
      "              precision    recall  f1-score   support\n",
      "\n",
      "       other       1.00      1.00      1.00       508\n",
      "       vimeo       1.00      0.98      0.99        57\n",
      "     youtube       1.00      1.00      1.00        57\n",
      "\n",
      "    accuracy                           1.00       622\n",
      "   macro avg       1.00      0.99      1.00       622\n",
      "weighted avg       1.00      1.00      1.00       622\n",
      "\n",
      "\n",
      "GradientBoostingClassifier()\n"
     ]
    },
    {
     "name": "stderr",
     "output_type": "stream",
     "text": [
      "/home/kell/miniconda3/envs/sigcomm-tutorial/lib/python3.11/site-packages/sklearn/base.py:439: UserWarning: X does not have valid feature names, but RandomForestClassifier was fitted with feature names\n",
      "  warnings.warn(\n",
      "/home/kell/miniconda3/envs/sigcomm-tutorial/lib/python3.11/site-packages/sklearn/base.py:439: UserWarning: X does not have valid feature names, but GradientBoostingClassifier was fitted with feature names\n",
      "  warnings.warn(\n"
     ]
    },
    {
     "name": "stdout",
     "output_type": "stream",
     "text": [
      "              precision    recall  f1-score   support\n",
      "\n",
      "       other       1.00      1.00      1.00       508\n",
      "       vimeo       1.00      1.00      1.00        57\n",
      "     youtube       1.00      1.00      1.00        57\n",
      "\n",
      "    accuracy                           1.00       622\n",
      "   macro avg       1.00      1.00      1.00       622\n",
      "weighted avg       1.00      1.00      1.00       622\n",
      "\n",
      "\n",
      "MLPClassifier()\n",
      "              precision    recall  f1-score   support\n",
      "\n",
      "       other       0.96      1.00      0.98       508\n",
      "       vimeo       0.95      0.72      0.82        57\n",
      "     youtube       1.00      0.89      0.94        57\n",
      "\n",
      "    accuracy                           0.96       622\n",
      "   macro avg       0.97      0.87      0.92       622\n",
      "weighted avg       0.96      0.96      0.96       622\n",
      "\n",
      "\n"
     ]
    },
    {
     "name": "stderr",
     "output_type": "stream",
     "text": [
      "/home/kell/miniconda3/envs/sigcomm-tutorial/lib/python3.11/site-packages/sklearn/base.py:439: UserWarning: X does not have valid feature names, but MLPClassifier was fitted with feature names\n",
      "  warnings.warn(\n"
     ]
    }
   ],
   "source": [
    "for clf in classifiers:\n",
    "    print(clf)\n",
    "    y_pred = clf.predict(X_test.values)\n",
    "    print(metrics.classification_report(y_test, y_pred))\n",
    "    print()"
   ]
  },
  {
   "cell_type": "code",
   "execution_count": null,
   "id": "c67c7ffe-784c-4648-89c9-082fd04780fb",
   "metadata": {},
   "outputs": [],
   "source": []
  }
 ],
 "metadata": {
  "kernelspec": {
   "display_name": "Python 3 (ipykernel)",
   "language": "python",
   "name": "python3"
  },
  "language_info": {
   "codemirror_mode": {
    "name": "ipython",
    "version": 3
   },
   "file_extension": ".py",
   "mimetype": "text/x-python",
   "name": "python",
   "nbconvert_exporter": "python",
   "pygments_lexer": "ipython3",
   "version": "3.11.0"
  }
 },
 "nbformat": 4,
 "nbformat_minor": 5
}
