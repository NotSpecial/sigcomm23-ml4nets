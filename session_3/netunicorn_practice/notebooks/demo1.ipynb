{
 "cells": [
  {
   "cell_type": "markdown",
   "id": "4ea5478e-9511-4b00-9ee2-39ceba363d18",
   "metadata": {},
   "source": [
    "# Demo 1: typical ML pipeline"
   ]
  },
  {
   "cell_type": "markdown",
   "id": "e2b93d3f-5cb7-4e35-9532-8127bd0e0c52",
   "metadata": {},
   "source": [
    "## Data collection\n",
    "\n",
    "Learning problem: create classifier for Vimeo vs SpeedTest vs Other"
   ]
  },
  {
   "cell_type": "code",
   "execution_count": 1,
   "id": "449e1fe6-2612-4074-b2ad-d1a405d33c66",
   "metadata": {},
   "outputs": [],
   "source": [
    "import os\n",
    "import time\n",
    "\n",
    "from netunicorn.client.remote import RemoteClient, RemoteClientException\n",
    "from netunicorn.base import Experiment, ExperimentStatus, Pipeline\n",
    "\n",
    "# Task using speedtest-cli to measure speedtest\n",
    "from netunicorn.library.tasks.measurements.ookla_speedtest import SpeedTest\n",
    "\n",
    "# Task to watch Vimeo\n",
    "from netunicorn.library.tasks.video_watchers.vimeo_watcher import WatchVimeoVideoLinuxImplementation\n",
    "\n",
    "# Tasks to start tcpdump and stop named tcpdump task\n",
    "from netunicorn.library.tasks.capture.tcpdump import StartCapture, StopNamedCapture"
   ]
  },
  {
   "cell_type": "markdown",
   "id": "29a5243a-0623-4358-bdba-a2c3009a8646",
   "metadata": {},
   "source": [
    "Creating a pipeline: start capture, watch a Vimeo video, and do a speedtest, stop capture."
   ]
  },
  {
   "cell_type": "code",
   "execution_count": 2,
   "id": "32f72e48-133b-4576-b467-4df8768598c0",
   "metadata": {},
   "outputs": [],
   "source": [
    "pipeline = (\n",
    "    Pipeline()\n",
    "    .then(StartCapture(filepath=\"/tmp/capture.pcap\", name=\"capture\"))\n",
    "    .then(SpeedTest())\n",
    "    .then([\n",
    "        WatchVimeoVideoLinuxImplementation(\"https://vimeo.com/375468729\", 15),\n",
    "        WatchVimeoVideoLinuxImplementation(\"https://vimeo.com/375468729\", 15)\n",
    "    ])\n",
    "    .then(StopNamedCapture(start_capture_task_name=\"capture\"))\n",
    ")"
   ]
  },
  {
   "cell_type": "markdown",
   "id": "d6acadff-1b50-475a-9be9-39da6e2ecd8d",
   "metadata": {},
   "source": [
    "We connect to a local netunicorn instance, get first available node (localhost), and prepare the experiment"
   ]
  },
  {
   "cell_type": "code",
   "execution_count": 3,
   "id": "63426222-4865-45d2-aa2c-0fcdd8a4f093",
   "metadata": {},
   "outputs": [
    {
     "name": "stdout",
     "output_type": "stream",
     "text": [
      "Instance is healthy: True\n"
     ]
    }
   ],
   "source": [
    "NETUNICORN_ENDPOINT = 'http://localhost:26611'\n",
    "NETUNICORN_LOGIN = 'test'\n",
    "NETUNICORN_PASSWORD = 'test'\n",
    "\n",
    "# create a client and check that connection and instance are ok\n",
    "client = RemoteClient(endpoint=NETUNICORN_ENDPOINT, login=NETUNICORN_LOGIN, password=NETUNICORN_PASSWORD)\n",
    "print(f\"Instance is healthy: {client.healthcheck()}\")\n",
    "\n",
    "nodes = client.get_nodes()\n",
    "working_nodes = nodes.take(1)\n",
    "experiment = Experiment().map(pipeline, working_nodes)\n",
    "\n",
    "from netunicorn.base import DockerImage\n",
    "for deployment in experiment:\n",
    "    deployment.environment_definition = DockerImage(image='pinot.cs.ucsb.edu/sigcommtutorial:latest')  # set the required prepared image\n",
    "    deployment.environment_definition.runtime_context.additional_arguments = [\"/tmp:/tmp\"]             # also mount the local folder to save files\n",
    "    deployment.cleanup = False\n",
    "\n",
    "!rm -rf /tmp/capture*"
   ]
  },
  {
   "cell_type": "markdown",
   "id": "c3987df9-2fa6-4fd8-8156-58e17f668738",
   "metadata": {},
   "source": [
    "Let's prepare and start an experiment, wait for it to finish, and check that it succeeded."
   ]
  },
  {
   "cell_type": "code",
   "execution_count": 4,
   "id": "bb9b1c04-f38c-4f70-8895-554ba0348857",
   "metadata": {},
   "outputs": [
    {
     "name": "stdout",
     "output_type": "stream",
     "text": [
      "Preparation status: ExperimentStatus.PREPARING\n",
      "Preparation status: ExperimentStatus.PREPARING\n",
      "Preparation status: ExperimentStatus.READY\n",
      "Prepared: True, error: None\n",
      "Execution status: ExperimentStatus.RUNNING\n",
      "Execution status: ExperimentStatus.RUNNING\n",
      "Execution status: ExperimentStatus.RUNNING\n",
      "Execution status: ExperimentStatus.RUNNING\n",
      "Execution status: ExperimentStatus.RUNNING\n",
      "Execution status: ExperimentStatus.RUNNING\n",
      "Execution status: ExperimentStatus.RUNNING\n",
      "Execution status: ExperimentStatus.FINISHED\n",
      "Node name: dockerhost\n",
      "Error: None\n",
      "Result is: <class 'returns.result.Success'>\n",
      "capture: [<Success: 11>]\n",
      "5b612a65-ea41-434c-a288-bae09b07c89e: [<Success: {'ping': {'value': 2.798, 'unit': 'ms'}, 'download': {'value': 966.82, 'unit': 'Mbit/s'}, 'upload': {'value': 947.69, 'unit': 'Mbit/s'}}>]\n",
      "7e9acada-300a-42a7-94a0-1b5ac146d800: [<Success: Video finished by timeout: 15 seconds>]\n",
      "07beb573-fc57-4227-bed2-f1dc1154402c: [<Success: Video finished by timeout: 15 seconds>]\n",
      "370b14fc-afec-4a02-9cb9-b87e5b11672c: [<Success: b''>]\n",
      "Parsed configuration: Gateway located on http://gateway:26512\n",
      "Current directory: /\n",
      "Successfully received pipeline.\n",
      "Pipeline finished, start reporting results.\n",
      "\n"
     ]
    }
   ],
   "source": [
    "experiment_label = \"session1-1\"\n",
    "\n",
    "try:\n",
    "    client.delete_experiment(experiment_label)\n",
    "except RemoteClientException:\n",
    "    pass\n",
    "\n",
    "client.prepare_experiment(experiment, experiment_label)\n",
    "time.sleep(2)\n",
    "\n",
    "while True:\n",
    "    info = client.get_experiment_status(experiment_label)\n",
    "    print(f\"Preparation status: {info.status}\")\n",
    "    if info.status != ExperimentStatus.PREPARING:\n",
    "        break\n",
    "    time.sleep(10)\n",
    "\n",
    "for deployment in client.get_experiment_status(experiment_label).experiment:\n",
    "    print(f\"Prepared: {deployment.prepared}, error: {deployment.error}\")\n",
    "\n",
    "client.start_execution(experiment_label)\n",
    "\n",
    "while True:\n",
    "    info = client.get_experiment_status(experiment_label)\n",
    "    print(f\"Execution status: {info.status}\")\n",
    "    if info.status != ExperimentStatus.RUNNING:\n",
    "        break\n",
    "    time.sleep(10)\n",
    "\n",
    "from returns.pipeline import is_successful\n",
    "\n",
    "for report in info.execution_result:\n",
    "    print(f\"Node name: {report.node.name}\")    # execution node name\n",
    "    print(f\"Error: {report.error}\")            # if any error happened\n",
    "\n",
    "    result, log = report.result  # report stores results of execution and corresponding log\n",
    "    \n",
    "    # result is a returns.result.Result object, could be Success of Failure\n",
    "    print(f\"Result is: {type(result)}\")\n",
    "\n",
    "    # let's unwrap the result (from the Success or Failure container to the actual result)\n",
    "    data = result.unwrap() if is_successful(result) else result.failure()\n",
    "\n",
    "    # and print all task names and corresponding execution results\n",
    "    for key, value in data.items():\n",
    "        print(f\"{key}: {value}\")\n",
    "\n",
    "    # we also can explore logs of the executor in case there's anything there\n",
    "    for line in log:\n",
    "        print(line.strip())\n",
    "    print()"
   ]
  },
  {
   "cell_type": "markdown",
   "id": "6616cc6b-160f-4c4b-8218-19e551cb003d",
   "metadata": {},
   "source": [
    "## Data preprocessing: CICFlowMeter"
   ]
  },
  {
   "cell_type": "code",
   "execution_count": 5,
   "id": "77511a71-496a-45bc-867d-69f4b55e4f27",
   "metadata": {
    "scrolled": true
   },
   "outputs": [
    {
     "name": "stdout",
     "output_type": "stream",
     "text": [
      "cic.cs.unb.ca.ifm.Cmd You select: /tmp/capture.pcap\n",
      "cic.cs.unb.ca.ifm.Cmd Out folder: /tmp/output\n",
      "cic.cs.unb.ca.ifm.Cmd CICFlowMeter received 1 pcap file\n",
      "Working on... capture.pcap\n",
      "cic.cs.unb.ca.jnetpcap.FlowGenerator Forward flow closed due to FIN Flag\n",
      "cic.cs.unb.ca.jnetpcap.FlowGenerator Forward flow closed due to FIN Flag\n",
      "cic.cs.unb.ca.jnetpcap.FlowGenerator Forward flow closed due to FIN Flag\n",
      "cic.cs.unb.ca.jnetpcap.FlowGenerator Forward flow closed due to FIN Flag\n",
      "cic.cs.unb.ca.jnetpcap.FlowGenerator Forward flow closed due to FIN Flag\n",
      "cic.cs.unb.ca.jnetpcap.FlowGenerator Forward flow closed due to FIN Flag\n",
      "cic.cs.unb.ca.jnetpcap.FlowGenerator Forward flow closed due to FIN Flag\n",
      "cic.cs.unb.ca.jnetpcap.FlowGenerator Forward flow closed due to FIN Flag\n",
      "cic.cs.unb.ca.jnetpcap.FlowGenerator Forward flow closed due to FIN Flag\n",
      "cic.cs.unb.ca.jnetpcap.FlowGenerator Forward flow closed due to FIN Flag\n",
      "cic.cs.unb.ca.jnetpcap.FlowGenerator Forward flow closed due to FIN Flag\n",
      "cic.cs.unb.ca.jnetpcap.FlowGenerator Forward flow closed due to FIN Flag\n",
      "cic.cs.unb.ca.jnetpcap.FlowGenerator Forward flow closed due to FIN Flag\n",
      "cic.cs.unb.ca.jnetpcap.FlowGenerator Forward flow closed due to FIN Flag\n",
      "cic.cs.unb.ca.jnetpcap.FlowGenerator Forward flow closed due to FIN Flag\n",
      "cic.cs.unb.ca.jnetpcap.FlowGenerator Forward flow closed due to FIN Flag\n",
      "cic.cs.unb.ca.jnetpcap.FlowGenerator Forward flow closed due to FIN Flag\n",
      "cic.cs.unb.ca.jnetpcap.FlowGenerator Forward flow closed due to FIN Flag\n",
      "cic.cs.unb.ca.jnetpcap.FlowGenerator Forward flow closed due to FIN Flag\n",
      "cic.cs.unb.ca.jnetpcap.FlowGenerator Forward flow closed due to FIN Flag\n",
      "cic.cs.unb.ca.jnetpcap.FlowGenerator Forward flow closed due to FIN Flag\n",
      "cic.cs.unb.ca.jnetpcap.FlowGenerator Forward flow closed due to FIN Flag\n",
      "cic.cs.unb.ca.jnetpcap.FlowGenerator Forward flow closed due to FIN Flag\n",
      "cic.cs.unb.ca.jnetpcap.FlowGenerator Forward flow closed due to FIN Flag\n",
      "cic.cs.unb.ca.jnetpcap.FlowGenerator Forward flow closed due to FIN Flag\n",
      "cic.cs.unb.ca.jnetpcap.FlowGenerator Forward flow closed due to FIN Flag\n",
      "cic.cs.unb.ca.jnetpcap.FlowGenerator Forward flow closed due to FIN Flag\n",
      "cic.cs.unb.ca.jnetpcap.FlowGenerator Forward flow closed due to FIN Flag\n",
      "cic.cs.unb.ca.jnetpcap.FlowGenerator Forward flow closed due to FIN Flag\n",
      "cic.cs.unb.ca.jnetpcap.FlowGenerator Forward flow closed due to FIN Flag\n",
      "cic.cs.unb.ca.jnetpcap.FlowGenerator Forward flow closed due to FIN Flag\n",
      "cic.cs.unb.ca.jnetpcap.FlowGenerator Forward flow closed due to FIN Flag\n",
      "cic.cs.unb.ca.jnetpcap.FlowGenerator Forward flow closed due to FIN Flag\n",
      "cic.cs.unb.ca.jnetpcap.FlowGenerator Forward flow closed due to FIN Flag\n",
      "cic.cs.unb.ca.jnetpcap.FlowGenerator Forward flow closed due to FIN Flag\n",
      "cic.cs.unb.ca.jnetpcap.FlowGenerator Forward flow closed due to FIN Flag\n",
      "cic.cs.unb.ca.jnetpcap.FlowGenerator Forward flow closed due to FIN Flag\n",
      "cic.cs.unb.ca.jnetpcap.FlowGenerator Forward flow closed due to FIN Flag\n",
      "cic.cs.unb.ca.jnetpcap.FlowGenerator Forward flow closed due to FIN Flag\n",
      "cic.cs.unb.ca.jnetpcap.FlowGenerator Forward flow closed due to FIN Flag\n",
      "cic.cs.unb.ca.jnetpcap.FlowGenerator Forward flow closed due to FIN Flag\n",
      "cic.cs.unb.ca.jnetpcap.FlowGenerator Forward flow closed due to FIN Flag\n",
      "cic.cs.unb.ca.jnetpcap.FlowGenerator Forward flow closed due to FIN Flag\n",
      "cic.cs.unb.ca.jnetpcap.FlowGenerator Forward flow closed due to FIN Flag\n",
      "cic.cs.unb.ca.jnetpcap.FlowGenerator Forward flow closed due to FIN Flag\n",
      "cic.cs.unb.ca.jnetpcap.FlowGenerator Forward flow closed due to FIN Flag\n",
      "cic.cs.unb.ca.jnetpcap.FlowGenerator Forward flow closed due to FIN Flag\n",
      "cic.cs.unb.ca.jnetpcap.FlowGenerator Forward flow closed due to FIN Flag\n",
      "cic.cs.unb.ca.jnetpcap.FlowGenerator Forward flow closed due to FIN Flag\n",
      "cic.cs.unb.ca.jnetpcap.FlowGenerator Forward flow closed due to FIN Flag\n",
      "cic.cs.unb.ca.jnetpcap.FlowGenerator Forward flow closed due to FIN Flag\n",
      "cic.cs.unb.ca.jnetpcap.FlowGenerator Forward flow closed due to FIN Flag\n",
      "cic.cs.unb.ca.jnetpcap.FlowGenerator Forward flow closed due to FIN Flag\n",
      "cic.cs.unb.ca.jnetpcap.FlowGenerator Forward flow closed due to FIN Flag\n",
      "cic.cs.unb.ca.jnetpcap.FlowGenerator Forward flow closed due to FIN Flag\n",
      "cic.cs.unb.ca.jnetpcap.FlowGenerator Forward flow closed due to FIN Flag\n",
      "cic.cs.unb.ca.jnetpcap.FlowGenerator Forward flow closed due to FIN Flag\n",
      "cic.cs.unb.ca.jnetpcap.FlowGenerator Forward flow closed due to FIN Flag\n",
      "cic.cs.unb.ca.jnetpcap.FlowGenerator Forward flow closed due to FIN Flag\n",
      "cic.cs.unb.ca.jnetpcap.FlowGenerator Forward flow closed due to FIN Flag\n",
      "cic.cs.unb.ca.jnetpcap.FlowGenerator Forward flow closed due to FIN Flag\n",
      "cic.cs.unb.ca.jnetpcap.FlowGenerator Forward flow closed due to FIN Flag\n",
      "cic.cs.unb.ca.jnetpcap.FlowGenerator Forward flow closed due to FIN Flag\n",
      "cic.cs.unb.ca.jnetpcap.FlowGenerator Forward flow closed due to FIN Flag\n",
      "cic.cs.unb.ca.jnetpcap.FlowGenerator Forward flow closed due to FIN Flag\n",
      "cic.cs.unb.ca.jnetpcap.FlowGenerator Forward flow closed due to FIN Flag\n",
      "cic.cs.unb.ca.jnetpcap.FlowGenerator Forward flow closed due to FIN Flag\n",
      "cic.cs.unb.ca.jnetpcap.FlowGenerator Forward flow closed due to FIN Flag\n",
      "cic.cs.unb.ca.jnetpcap.FlowGenerator Forward flow closed due to FIN Flag\n",
      "cic.cs.unb.ca.jnetpcap.FlowGenerator Forward flow closed due to FIN Flag\n",
      "cic.cs.unb.ca.jnetpcap.FlowGenerator Forward flow closed due to FIN Flag\n",
      "cic.cs.unb.ca.jnetpcap.FlowGenerator Forward flow closed due to FIN Flag\n",
      "cic.cs.unb.ca.jnetpcap.FlowGenerator Forward flow closed due to FIN Flag\n",
      "cic.cs.unb.ca.jnetpcap.FlowGenerator Forward flow closed due to FIN Flag\n",
      "cic.cs.unb.ca.jnetpcap.FlowGenerator Forward flow closed due to FIN Flag\n",
      "cic.cs.unb.ca.jnetpcap.FlowGenerator Forward flow closed due to FIN Flag\n",
      "cic.cs.unb.ca.jnetpcap.FlowGenerator Forward flow closed due to FIN Flag\n",
      "cic.cs.unb.ca.jnetpcap.FlowGenerator Forward flow closed due to FIN Flag\n",
      "cic.cs.unb.ca.jnetpcap.FlowGenerator Forward flow closed due to FIN Flag\n",
      "cic.cs.unb.ca.jnetpcap.FlowGenerator Forward flow closed due to FIN Flag\n",
      "cic.cs.unb.ca.jnetpcap.FlowGenerator Forward flow closed due to FIN Flag\n",
      "cic.cs.unb.ca.jnetpcap.FlowGenerator Forward flow closed due to FIN Flag\n",
      "cic.cs.unb.ca.jnetpcap.FlowGenerator Forward flow closed due to FIN Flag\n",
      "cic.cs.unb.ca.jnetpcap.FlowGenerator Forward flow closed due to FIN Flag\n",
      "cic.cs.unb.ca.jnetpcap.FlowGenerator Forward flow closed due to FIN Flag\n",
      "cic.cs.unb.ca.jnetpcap.FlowGenerator Forward flow closed due to FIN Flag\n",
      "cic.cs.unb.ca.jnetpcap.FlowGenerator Forward flow closed due to FIN Flag\n",
      "cic.cs.unb.ca.jnetpcap.FlowGenerator Forward flow closed due to FIN Flag\n",
      "cic.cs.unb.ca.jnetpcap.FlowGenerator Forward flow closed due to FIN Flag\n",
      "cic.cs.unb.ca.jnetpcap.FlowGenerator Forward flow closed due to FIN Flag\n",
      "cic.cs.unb.ca.jnetpcap.FlowGenerator Forward flow closed due to FIN Flag\n",
      "cic.cs.unb.ca.jnetpcap.FlowGenerator Forward flow closed due to FIN Flag\n",
      "cic.cs.unb.ca.jnetpcap.FlowGenerator Forward flow closed due to FIN Flag\n",
      "cic.cs.unb.ca.jnetpcap.FlowGenerator Forward flow closed due to FIN Flag\n",
      "cic.cs.unb.ca.jnetpcap.FlowGenerator Forward flow closed due to FIN Flag\n",
      "cic.cs.unb.ca.jnetpcap.FlowGenerator Forward flow closed due to FIN Flag\n",
      "cic.cs.unb.ca.jnetpcap.FlowGenerator Forward flow closed due to FIN Flag\n",
      "cic.cs.unb.ca.jnetpcap.FlowGenerator Forward flow closed due to FIN Flag\n",
      "cic.cs.unb.ca.jnetpcap.FlowGenerator Forward flow closed due to FIN Flag\n",
      "cic.cs.unb.ca.jnetpcap.FlowGenerator Forward flow closed due to FIN Flag\n",
      "cic.cs.unb.ca.jnetpcap.FlowGenerator Forward flow closed due to FIN Flag\n",
      "cic.cs.unb.ca.jnetpcap.FlowGenerator Forward flow closed due to FIN Flag\n",
      "cic.cs.unb.ca.jnetpcap.FlowGenerator Forward flow closed due to FIN Flag\n",
      "cic.cs.unb.ca.jnetpcap.FlowGenerator Forward flow closed due to FIN Flag\n",
      "cic.cs.unb.ca.jnetpcap.FlowGenerator Forward flow closed due to FIN Flag\n",
      "cic.cs.unb.ca.jnetpcap.FlowGenerator Forward flow closed due to FIN Flag\n",
      "cic.cs.unb.ca.jnetpcap.FlowGenerator Forward flow closed due to FIN Flag\n",
      "cic.cs.unb.ca.jnetpcap.FlowGenerator Forward flow closed due to FIN Flag\n",
      "cic.cs.unb.ca.jnetpcap.FlowGenerator Forward flow closed due to FIN Flag\n",
      "cic.cs.unb.ca.jnetpcap.FlowGenerator Forward flow closed due to FIN Flag\n",
      "cic.cs.unb.ca.jnetpcap.FlowGenerator Forward flow closed due to FIN Flag\n",
      "cic.cs.unb.ca.jnetpcap.FlowGenerator Forward flow closed due to FIN Flag\n",
      "cic.cs.unb.ca.jnetpcap.FlowGenerator Forward flow closed due to FIN Flag\n",
      "cic.cs.unb.ca.jnetpcap.FlowGenerator Forward flow closed due to FIN Flag\n",
      "cic.cs.unb.ca.jnetpcap.FlowGenerator Forward flow closed due to FIN Flag\n",
      "cic.cs.unb.ca.jnetpcap.FlowGenerator Forward flow closed due to FIN Flag\n",
      "cic.cs.unb.ca.jnetpcap.FlowGenerator Forward flow closed due to FIN Flag\n",
      "cic.cs.unb.ca.jnetpcap.FlowGenerator Forward flow closed due to FIN Flag\n",
      "cic.cs.unb.ca.jnetpcap.FlowGenerator Forward flow closed due to FIN Flag\n",
      "cic.cs.unb.ca.jnetpcap.FlowGenerator Forward flow closed due to FIN Flag\n",
      "cic.cs.unb.ca.jnetpcap.FlowGenerator Forward flow closed due to FIN Flag\n",
      "cic.cs.unb.ca.jnetpcap.FlowGenerator Forward flow closed due to FIN Flag\n",
      "cic.cs.unb.ca.jnetpcap.FlowGenerator Forward flow closed due to FIN Flag\n",
      "cic.cs.unb.ca.jnetpcap.FlowGenerator Forward flow closed due to FIN Flag\n",
      "cic.cs.unb.ca.jnetpcap.FlowGenerator Forward flow closed due to FIN Flag\n",
      "cic.cs.unb.ca.jnetpcap.FlowGenerator Forward flow closed due to FIN Flag\n",
      "cic.cs.unb.ca.jnetpcap.FlowGenerator Forward flow closed due to FIN Flag\n",
      "cic.cs.unb.ca.jnetpcap.FlowGenerator Forward flow closed due to FIN Flag\n",
      "cic.cs.unb.ca.jnetpcap.FlowGenerator Forward flow closed due to FIN Flag\n",
      "cic.cs.unb.ca.jnetpcap.FlowGenerator Forward flow closed due to FIN Flag\n",
      "cic.cs.unb.ca.jnetpcap.FlowGenerator Forward flow closed due to FIN Flag\n",
      "cic.cs.unb.ca.jnetpcap.FlowGenerator Forward flow closed due to FIN Flag\n",
      "cic.cs.unb.ca.jnetpcap.FlowGenerator Forward flow closed due to FIN Flag\n",
      "cic.cs.unb.ca.jnetpcap.FlowGenerator Forward flow closed due to FIN Flag\n",
      "cic.cs.unb.ca.jnetpcap.FlowGenerator Forward flow closed due to FIN Flag\n",
      "cic.cs.unb.ca.jnetpcap.FlowGenerator Forward flow closed due to FIN Flag\n",
      "cic.cs.unb.ca.jnetpcap.FlowGenerator Forward flow closed due to FIN Flag\n",
      "cic.cs.unb.ca.jnetpcap.FlowGenerator Forward flow closed due to FIN Flag\n",
      "cic.cs.unb.ca.jnetpcap.FlowGenerator Forward flow closed due to FIN Flag\n",
      "capture.pcap is done. total 340 flows \n",
      "Packet stats: Total=114434,Valid=114421,Discarded=13\n",
      "-------------------------------------------------------------------------------\n"
     ]
    }
   ],
   "source": [
    "!docker run -v /tmp/capture.pcap:/tmp/capture.pcap -v /tmp:/tmp/output --rm pinot.cs.ucsb.edu/cicflowmeter:latest /tmp/capture.pcap /tmp/output"
   ]
  },
  {
   "cell_type": "markdown",
   "id": "957680c2-d473-4002-b3ae-1b024bdb6d74",
   "metadata": {},
   "source": [
    "## Data cleaning"
   ]
  },
  {
   "cell_type": "code",
   "execution_count": 6,
   "id": "2f448ee9-451f-4cc9-8d4c-619c1f022cd6",
   "metadata": {},
   "outputs": [],
   "source": [
    "import pandas as pd\n",
    "\n",
    "df = pd.read_csv(\"/tmp/capture.pcap_Flow.csv\")\n",
    "df = df.dropna()\n",
    "df['Label'] = 'Other'\n",
    "df.loc[(df['Total Fwd Packet'] > 30) | (df['Total Bwd packets'] > 30), 'Label'] = 'vimeo'    # any stream with more than 30 packets in any direction\n",
    "df.loc[(df['Src Port'] == 8080) | (df['Dst Port'] == 8080), 'Label'] = 'speedtest'           # any stream to or from ports 8080 (ookla)\n",
    "\n",
    "df = df.drop([\n",
    "    'Flow ID',\n",
    "    'Src IP',\n",
    "    'Src Port',\n",
    "    'Dst IP',\n",
    "    'Dst Port',\n",
    "    'Timestamp',\n",
    "], axis=1)\n",
    "\n",
    "target_variable = 'Label'\n",
    "features = list(set(df.columns) - {target_variable})\n",
    "X = df[features]\n",
    "y = df[target_variable]"
   ]
  },
  {
   "cell_type": "markdown",
   "id": "624ffd88-1c4d-4a9a-b51b-ea9feac4ea56",
   "metadata": {},
   "source": [
    "## Model training"
   ]
  },
  {
   "cell_type": "code",
   "execution_count": 7,
   "id": "cce3e33c-e454-401e-ae5b-f20340ee30e5",
   "metadata": {},
   "outputs": [
    {
     "data": {
      "text/html": [
       "<style>#sk-container-id-1 {color: black;background-color: white;}#sk-container-id-1 pre{padding: 0;}#sk-container-id-1 div.sk-toggleable {background-color: white;}#sk-container-id-1 label.sk-toggleable__label {cursor: pointer;display: block;width: 100%;margin-bottom: 0;padding: 0.3em;box-sizing: border-box;text-align: center;}#sk-container-id-1 label.sk-toggleable__label-arrow:before {content: \"▸\";float: left;margin-right: 0.25em;color: #696969;}#sk-container-id-1 label.sk-toggleable__label-arrow:hover:before {color: black;}#sk-container-id-1 div.sk-estimator:hover label.sk-toggleable__label-arrow:before {color: black;}#sk-container-id-1 div.sk-toggleable__content {max-height: 0;max-width: 0;overflow: hidden;text-align: left;background-color: #f0f8ff;}#sk-container-id-1 div.sk-toggleable__content pre {margin: 0.2em;color: black;border-radius: 0.25em;background-color: #f0f8ff;}#sk-container-id-1 input.sk-toggleable__control:checked~div.sk-toggleable__content {max-height: 200px;max-width: 100%;overflow: auto;}#sk-container-id-1 input.sk-toggleable__control:checked~label.sk-toggleable__label-arrow:before {content: \"▾\";}#sk-container-id-1 div.sk-estimator input.sk-toggleable__control:checked~label.sk-toggleable__label {background-color: #d4ebff;}#sk-container-id-1 div.sk-label input.sk-toggleable__control:checked~label.sk-toggleable__label {background-color: #d4ebff;}#sk-container-id-1 input.sk-hidden--visually {border: 0;clip: rect(1px 1px 1px 1px);clip: rect(1px, 1px, 1px, 1px);height: 1px;margin: -1px;overflow: hidden;padding: 0;position: absolute;width: 1px;}#sk-container-id-1 div.sk-estimator {font-family: monospace;background-color: #f0f8ff;border: 1px dotted black;border-radius: 0.25em;box-sizing: border-box;margin-bottom: 0.5em;}#sk-container-id-1 div.sk-estimator:hover {background-color: #d4ebff;}#sk-container-id-1 div.sk-parallel-item::after {content: \"\";width: 100%;border-bottom: 1px solid gray;flex-grow: 1;}#sk-container-id-1 div.sk-label:hover label.sk-toggleable__label {background-color: #d4ebff;}#sk-container-id-1 div.sk-serial::before {content: \"\";position: absolute;border-left: 1px solid gray;box-sizing: border-box;top: 0;bottom: 0;left: 50%;z-index: 0;}#sk-container-id-1 div.sk-serial {display: flex;flex-direction: column;align-items: center;background-color: white;padding-right: 0.2em;padding-left: 0.2em;position: relative;}#sk-container-id-1 div.sk-item {position: relative;z-index: 1;}#sk-container-id-1 div.sk-parallel {display: flex;align-items: stretch;justify-content: center;background-color: white;position: relative;}#sk-container-id-1 div.sk-item::before, #sk-container-id-1 div.sk-parallel-item::before {content: \"\";position: absolute;border-left: 1px solid gray;box-sizing: border-box;top: 0;bottom: 0;left: 50%;z-index: -1;}#sk-container-id-1 div.sk-parallel-item {display: flex;flex-direction: column;z-index: 1;position: relative;background-color: white;}#sk-container-id-1 div.sk-parallel-item:first-child::after {align-self: flex-end;width: 50%;}#sk-container-id-1 div.sk-parallel-item:last-child::after {align-self: flex-start;width: 50%;}#sk-container-id-1 div.sk-parallel-item:only-child::after {width: 0;}#sk-container-id-1 div.sk-dashed-wrapped {border: 1px dashed gray;margin: 0 0.4em 0.5em 0.4em;box-sizing: border-box;padding-bottom: 0.4em;background-color: white;}#sk-container-id-1 div.sk-label label {font-family: monospace;font-weight: bold;display: inline-block;line-height: 1.2em;}#sk-container-id-1 div.sk-label-container {text-align: center;}#sk-container-id-1 div.sk-container {/* jupyter's `normalize.less` sets `[hidden] { display: none; }` but bootstrap.min.css set `[hidden] { display: none !important; }` so we also need the `!important` here to be able to override the default hidden behavior on the sphinx rendered scikit-learn.org. See: https://github.com/scikit-learn/scikit-learn/issues/21755 */display: inline-block !important;position: relative;}#sk-container-id-1 div.sk-text-repr-fallback {display: none;}</style><div id=\"sk-container-id-1\" class=\"sk-top-container\"><div class=\"sk-text-repr-fallback\"><pre>RandomForestClassifier()</pre><b>In a Jupyter environment, please rerun this cell to show the HTML representation or trust the notebook. <br />On GitHub, the HTML representation is unable to render, please try loading this page with nbviewer.org.</b></div><div class=\"sk-container\" hidden><div class=\"sk-item\"><div class=\"sk-estimator sk-toggleable\"><input class=\"sk-toggleable__control sk-hidden--visually\" id=\"sk-estimator-id-1\" type=\"checkbox\" checked><label for=\"sk-estimator-id-1\" class=\"sk-toggleable__label sk-toggleable__label-arrow\">RandomForestClassifier</label><div class=\"sk-toggleable__content\"><pre>RandomForestClassifier()</pre></div></div></div></div></div>"
      ],
      "text/plain": [
       "RandomForestClassifier()"
      ]
     },
     "execution_count": 7,
     "metadata": {},
     "output_type": "execute_result"
    }
   ],
   "source": [
    "from sklearn.ensemble import RandomForestClassifier\n",
    "from sklearn.model_selection import train_test_split\n",
    "from sklearn import metrics\n",
    "\n",
    "X_train, X_test, y_train, y_test = train_test_split(X, y, test_size=0.2)\n",
    "\n",
    "clf = RandomForestClassifier()\n",
    "clf.fit(X_train, y_train)"
   ]
  },
  {
   "cell_type": "code",
   "execution_count": 8,
   "id": "558c65c4-2bdf-4be2-aec7-b36d8f810dc0",
   "metadata": {},
   "outputs": [
    {
     "name": "stdout",
     "output_type": "stream",
     "text": [
      "              precision    recall  f1-score   support\n",
      "\n",
      "       Other       1.00      1.00      1.00       110\n",
      "   speedtest       1.00      1.00      1.00       151\n",
      "       vimeo       1.00      1.00      1.00        10\n",
      "\n",
      "    accuracy                           1.00       271\n",
      "   macro avg       1.00      1.00      1.00       271\n",
      "weighted avg       1.00      1.00      1.00       271\n",
      "\n"
     ]
    },
    {
     "name": "stderr",
     "output_type": "stream",
     "text": [
      "/usr/local/lib/python3.10/dist-packages/sklearn/base.py:439: UserWarning: X does not have valid feature names, but RandomForestClassifier was fitted with feature names\n",
      "  warnings.warn(\n"
     ]
    }
   ],
   "source": [
    "y_pred = clf.predict(X_train.values)\n",
    "print(metrics.classification_report(y_train, y_pred))"
   ]
  },
  {
   "cell_type": "code",
   "execution_count": 9,
   "id": "bb981e5e-8ac2-4f4b-9a30-7b0e112ec685",
   "metadata": {},
   "outputs": [
    {
     "name": "stdout",
     "output_type": "stream",
     "text": [
      "              precision    recall  f1-score   support\n",
      "\n",
      "       Other       1.00      1.00      1.00        21\n",
      "   speedtest       1.00      1.00      1.00        45\n",
      "       vimeo       1.00      1.00      1.00         2\n",
      "\n",
      "    accuracy                           1.00        68\n",
      "   macro avg       1.00      1.00      1.00        68\n",
      "weighted avg       1.00      1.00      1.00        68\n",
      "\n"
     ]
    },
    {
     "name": "stderr",
     "output_type": "stream",
     "text": [
      "/usr/local/lib/python3.10/dist-packages/sklearn/base.py:439: UserWarning: X does not have valid feature names, but RandomForestClassifier was fitted with feature names\n",
      "  warnings.warn(\n"
     ]
    }
   ],
   "source": [
    "y_pred = clf.predict(X_test.values)\n",
    "print(metrics.classification_report(y_test, y_pred))"
   ]
  },
  {
   "cell_type": "code",
   "execution_count": null,
   "id": "c67c7ffe-784c-4648-89c9-082fd04780fb",
   "metadata": {},
   "outputs": [],
   "source": []
  }
 ],
 "metadata": {
  "kernelspec": {
   "display_name": "Python 3 (ipykernel)",
   "language": "python",
   "name": "python3"
  },
  "language_info": {
   "codemirror_mode": {
    "name": "ipython",
    "version": 3
   },
   "file_extension": ".py",
   "mimetype": "text/x-python",
   "name": "python",
   "nbconvert_exporter": "python",
   "pygments_lexer": "ipython3",
   "version": "3.10.12"
  }
 },
 "nbformat": 4,
 "nbformat_minor": 5
}
