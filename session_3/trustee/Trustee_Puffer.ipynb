{
  "cells": [
    {
      "cell_type": "markdown",
      "source": [
        "# Session 3: Hands-on Exercises:\n",
        "# “Is my ML model wrong?” - Using Trustee in Practice\n",
        "\n",
        "In this session, we will implement a Random Forest classifier to analyze the CIC-IDS dataset and its ability to capture real-world attacks. Then, we will use Trustee to analyze the black-box model and identify an instance of underspecification. More specifically, we will show that a black-box model can easily separate a class of attack (Heartbleed) because of the way the dataset was generated."
      ],
      "metadata": {
        "id": "J_H6t1dxbH01"
      }
    },
    {
      "cell_type": "markdown",
      "metadata": {
        "id": "kL4-n3jVUVET"
      },
      "source": [
        "# Install dependencies\n",
        "\n",
        "* Use `pip` to install dependencies.\n",
        "* Install `graphviz` to render decision trees.\n",
        "\n",
        "\n"
      ]
    },
    {
      "cell_type": "code",
      "execution_count": null,
      "metadata": {
        "id": "b0twAF-HRztd"
      },
      "outputs": [],
      "source": [
        "!pip install --upgrade setuptools jedi 2> /dev/null > /dev/null\n",
        "!pip install matplotlib numpy pandas scikit-learn==1.2.2 pdf2image scipy trustee==1.1.4 2> /dev/null > /dev/null\n",
        "!apt -qqq install graphviz poppler-utils"
      ]
    },
    {
      "cell_type": "markdown",
      "metadata": {
        "id": "kdFIKYCUWJI3"
      },
      "source": [
        "---\n",
        "# Traditional ML Pipeline\n",
        "\n",
        "* Read CIC-IDS-2017 dataset\n",
        "  * The CIC-IDS-2017 dataset is hosted in the Github repo from the project.\n",
        "\n",
        "* To read the data, we are using a helper function from the Trustee package.\n",
        "  * This method automatically one-hot encodes the categorical variables of the dataset, based on the provided metadata."
      ]
    },
    {
      "cell_type": "code",
      "execution_count": null,
      "metadata": {
        "id": "Ukt1OVI3WafH"
      },
      "outputs": [],
      "source": [
        "import numpy as np\n",
        "from trustee.utils import dataset\n",
        "from trustee.utils.const import CIC_IDS_2017_DATASET_META\n",
        "\n",
        "import warnings\n",
        "warnings.filterwarnings(\"ignore\")\n",
        "\n",
        "DF_PATH = \"https://github.com/TrusteeML/emperor/raw/main/use_cases/heartbleed_case/res/dataset/CIC-IDS-2017_OverSampled_min.csv.zip\"\n",
        "\n",
        "# if using oversampled df\n",
        "CIC_IDS_2017_DATASET_META[\"is_dir\"] = False\n",
        "\n",
        "# Step 1: Parse train-test def\n",
        "X, y, feature_names, _, _ = dataset.read(\n",
        "    DF_PATH, metadata=CIC_IDS_2017_DATASET_META, as_df=True, verbose=True\n",
        ")\n",
        "\n",
        "SUBSAMPLE_RATIO = 0.1\n",
        "\n",
        "# select subsample of the dataset\n",
        "idx = np.random.permutation(X.index)\n",
        "idx = idx[:int(len(idx) * SUBSAMPLE_RATIO)]\n",
        "\n",
        "X = X.loc[idx]\n",
        "y = y.loc[idx]"
      ]
    },
    {
      "cell_type": "markdown",
      "metadata": {
        "id": "nVWgUSEZ0l0B"
      },
      "source": [
        "---\n",
        "**Split dataset into train and test sets**"
      ]
    },
    {
      "cell_type": "code",
      "execution_count": null,
      "metadata": {
        "id": "zEhJS-6K0o3B"
      },
      "outputs": [],
      "source": [
        "import numpy as np\n",
        "from sklearn.model_selection import train_test_split\n",
        "\n",
        "X_indexes = np.arange(0, X.shape[0])\n",
        "X_train, X_test, y_train, y_test = train_test_split(X_indexes, y, train_size=0.7, stratify=y)\n",
        "X_train = X.iloc[X_train]\n",
        "X_test = X.iloc[X_test]"
      ]
    },
    {
      "cell_type": "markdown",
      "metadata": {
        "id": "skmZt9pqZfR4"
      },
      "source": [
        "Train Random Forest Classifier"
      ]
    },
    {
      "cell_type": "code",
      "execution_count": null,
      "metadata": {
        "id": "QjwHtDq7ZkF6"
      },
      "outputs": [],
      "source": [
        "from sklearn.ensemble import RandomForestClassifier\n",
        "from sklearn.metrics import classification_report\n",
        "\n",
        "blackbox = RandomForestClassifier(n_jobs=4)\n",
        "blackbox.fit(X_train, y_train)\n",
        "\n",
        "y_pred = blackbox.predict(X_test)\n",
        "\n",
        "print(\"Blackbox model classification report with IID:\")\n",
        "print(\n",
        "    \"\\n{}\".format(\n",
        "        classification_report(\n",
        "            y_test,\n",
        "            y_pred,\n",
        "            digits=3,\n",
        "            target_names=CIC_IDS_2017_DATASET_META[\"classes\"],\n",
        "        )\n",
        "    )\n",
        ")\n"
      ]
    },
    {
      "cell_type": "markdown",
      "metadata": {
        "id": "5_6ykJfB5pSm"
      },
      "source": [
        "---\n",
        "# Unlocking the Black Box with Trustee\n",
        "Run Classification Trustee on trained Random Forest Classifier\n",
        "\n",
        "<font color=\"blue\">`class trustee.main.ClassificationTrustee(expert, logger=None)`</font>\n",
        "\n"
      ]
    },
    {
      "cell_type": "markdown",
      "source": [
        "Bases: ``Trustee``\n",
        "\n",
        "Implements the Trust-oriented Decision Tree Extraction (Trustee) algorithm to train a student DecisionTreeClassifier based on observations from an Expert classification model.\n",
        "\n",
        "**PARAMETERS:**\n",
        "\n",
        "* **expert** *(object)* – The ML blackbox model to analyze. The expert model must have a predict method call implemented for Trustee to work properly, unless explicitly stated otherwise using the predict_method_name argument in the fit() method.\n",
        "\n",
        "* **logger** *(Logger object , default=None)* – A logger object to log messages to. If none is given, the print() method will be used to log messages."
      ],
      "metadata": {
        "id": "NQ5prKDWE3g-"
      }
    },
    {
      "cell_type": "code",
      "execution_count": null,
      "metadata": {
        "id": "bn1l9GW55t_G"
      },
      "outputs": [],
      "source": [
        "import graphviz\n",
        "\n",
        "from sklearn import tree\n",
        "from sklearn import datasets\n",
        "\n",
        "# Initialize Trustee\n",
        "\n",
        "# TODO\n"
      ]
    },
    {
      "cell_type": "markdown",
      "source": [
        "#Train a Decision Tree to Imitate the Expert Model.\n",
        "\n",
        "<font color=\"blue\">`fit(X, y, top_k=10, max_leaf_nodes=None, max_depth=None, ccp_alpha=0.0, train_size=0.7, num_iter=50, num_stability_iter=5, num_samples=2000, samples_size=None, use_features=None, predict_method_name='predict', optimization='fidelity', aggregate=True, verbose=False)`</font>\n",
        "\n",
        "\n"
      ],
      "metadata": {
        "id": "G8cfknsZVLxl"
      }
    },
    {
      "cell_type": "markdown",
      "source": [
        "**PARAMETERS:**\n",
        "\n",
        "* **X** *({array-like, sparse matrix} of shape (n_samples, n_features))* – The training input samples. Internally, it will be converted to a pandas DataFrame.\n",
        "* **y** *(array-like of shape (n_samples,) or (n_samples, n_outputs))* – The target values for X (class labels in classification, real numbers in regression). Internally, it will be converted to a pandas Series.\n",
        "* **top_k** *(int, default=10)* – Number of top-k branches, sorted by number of samples per branch, to keep after finding decision tree with highest fidelity.\n",
        "* **max_leaf_nodes** *(int, default=None)* – Grow a tree with max_leaf_nodes in best-first fashion. Best nodes are defined as relative reduction in impurity. If None then unlimited number of leaf nodes.\n",
        "* **max_depth** *(int, default=None)* – The maximum depth of the tree. If None, then nodes are expanded until all leaves are pure.\n",
        "* **ccp_alpha** *(float, default=0.0)* – Complexity parameter used for Minimal Cost-Complexity Pruning. The subtree with the largest cost complexity that is smaller than ccp_alpha will be chosen. By default, no pruning is performed. See Minimal Cost-Complexity Pruning here for details: https://scikit-learn.org/stable/modules/tree.html#minimal-cost-complexity-pruning\n",
        "* **train_size** *(float or int, default=0.7)* – If float, should be between 0.0 and 1.0 and represent the proportion of the dataset to include in the train split. If int, represents the absolute number of train samples.\n",
        "* **num_iter** *(int, default=50)* – Number of iterations to repeat Trustee inner-loop for.\n",
        "* **num_stability_iter** *(int, default=5)* – Number of stability to repeat Trustee stabilization outer-loop for.\n",
        "* **num_samples** *(int, default=2000)* – The absolute number of samples to fetch from the training dataset split to train the student decision tree model. If the samples_size argument is provided, this arg is ignored.\n",
        "* **samples_size** *(float, default=None)* – The fraction of the training dataset to use to train the student decision tree model. If None, the value is automatically set to the num_samples provided value.\n",
        "* **use_features** *(array-like, default=None)* – Array-like of integers representing the indexes of features from the X training samples. If not None, only the features indicated by the provided indexes will be used to train the student decision tree model.\n",
        "* **predict_method_name** *(str, default=\"predict\")* – The method interface to use to get predictions from the expert model. If no value is passed, the default predict interface is used.\n",
        "* **optimization** *({\"fidelity\", \"accuracy\"}, default=\"fidelity\")* – The comparison criteria to optimize the decision tree students in Trustee inner-loop. Used for ablation study only.\n",
        "* **aggregate** *(bool, default=True)* – Boolean indicating whether dataset aggregation should be used in Trustee inner-loop. Used for ablation study only.\n",
        "* **verbose** *(bool, default=False)* – Boolean indicating whether to log messages.\n",
        "\n",
        "For this tutorial, specify only the parameters **X, y, num_iter=30, num_stability_iter, samples_size, verbose=True**."
      ],
      "metadata": {
        "id": "5VHSJmaWD4Jq"
      }
    },
    {
      "cell_type": "code",
      "source": [
        "# Fit for classification models\n",
        "# TODO\n",
        "\n"
      ],
      "metadata": {
        "id": "Obd2_r4YVN-z"
      },
      "execution_count": null,
      "outputs": []
    },
    {
      "cell_type": "markdown",
      "source": [
        "---\n",
        "#Generate an Explanation\n",
        "\n",
        "<font color=\"blue\">`explain(top_k=10)`</font>\n",
        "\n",
        "Returns explainable model that best imitates Expert model, based on highest mean agreement and highest fidelity.\n"
      ],
      "metadata": {
        "id": "-SDjNX6Jfo1Q"
      }
    },
    {
      "cell_type": "markdown",
      "source": [
        "**RETURNS:**\n",
        "\n",
        "* **top_student** – `(dt, pruned_dt, agreement, reward)`\n",
        "* **dt**: *{DecisionTreeClassifier, DecisionTreeRegressor}* -\n",
        "Unconstrained fitted student model.\n",
        "* **pruned_dt**: *{DecisionTreeClassifier, DecisionTreeRegressor}* - Top-k pruned fitted student model.\n",
        "* **agreement**: *float* - Mean agreement of pruned student model with respect to others.\n",
        "* **reward**: *float* - Fidelity of student model to the expert model.\n",
        "\n",
        "**RETURN TYPE:**\n",
        "\n",
        "* tuple"
      ],
      "metadata": {
        "id": "gzpyvW22EQky"
      }
    },
    {
      "cell_type": "code",
      "source": [
        "# Get the best explanation from Trustee\n",
        "# TODO\n",
        "\n",
        "print(f\"Model explanation training (agreement, fidelity): ({agreement}, {reward})\")\n",
        "print(f\"Model Explanation size: {dt.tree_.node_count}\")\n",
        "print(f\"Top-k Prunned Model explanation size: {pruned_dt.tree_.node_count}\")"
      ],
      "metadata": {
        "id": "yVmp3wbIfupE"
      },
      "execution_count": null,
      "outputs": []
    },
    {
      "cell_type": "markdown",
      "metadata": {
        "id": "TUk82pal_j7I"
      },
      "source": [
        "---\n",
        "**Evaluate explanations produced by Trustee**"
      ]
    },
    {
      "cell_type": "code",
      "execution_count": null,
      "metadata": {
        "id": "YsfneYdK_nDB"
      },
      "outputs": [],
      "source": [
        "# Use explanations to make predictions\n",
        "# TODO\n",
        "\n",
        "# Evaluate accuracy and fidelity of explanations\n",
        "print(\"Model explanation global fidelity report:\")\n",
        "print(classification_report(y_pred, dt_y_pred))\n",
        "print(\"Top-k Model explanation global fidelity report:\")\n",
        "print(classification_report(y_pred, pruned_dt_y_pred))\n",
        "\n",
        "print(\"Model explanation score report:\")\n",
        "print(classification_report(y_test, dt_y_pred))\n",
        "print(\"Top-k Model explanation score report:\")\n",
        "print(classification_report(y_test, pruned_dt_y_pred))"
      ]
    },
    {
      "cell_type": "markdown",
      "metadata": {
        "id": "zma8tqHh_vpv"
      },
      "source": [
        "---\n",
        "**Render Decision Tree explanations**"
      ]
    },
    {
      "cell_type": "code",
      "execution_count": null,
      "metadata": {
        "id": "9v6M1iBK_uCL"
      },
      "outputs": [],
      "source": [
        "# Output decision tree to pdf\n",
        "dot_data = tree.export_graphviz(\n",
        "    dt,\n",
        "    class_names=CIC_IDS_2017_DATASET_META[\"classes\"],\n",
        "    feature_names=feature_names,\n",
        "    filled=True,\n",
        "    rounded=True,\n",
        "    special_characters=True,\n",
        ")\n",
        "graph = graphviz.Source(dot_data)\n",
        "graph.render(\"dt_explanation\")\n",
        "\n",
        "# Output pruned decision tree to pdf\n",
        "dot_data = tree.export_graphviz(\n",
        "    pruned_dt,\n",
        "    class_names=CIC_IDS_2017_DATASET_META[\"classes\"],\n",
        "    feature_names=feature_names,\n",
        "    filled=True,\n",
        "    rounded=True,\n",
        "    special_characters=True,\n",
        ")\n",
        "graph = graphviz.Source(dot_data)\n",
        "graph.render(\"pruned_dt_explanation\")"
      ]
    },
    {
      "cell_type": "code",
      "source": [
        "from pdf2image import convert_from_path\n",
        "\n",
        "images = convert_from_path(\"pruned_dt_explanation.pdf\")\n",
        "images[0]"
      ],
      "metadata": {
        "id": "aM1iEkWMp2sh"
      },
      "execution_count": null,
      "outputs": []
    },
    {
      "cell_type": "markdown",
      "metadata": {
        "id": "4XGH1gzn9eXT"
      },
      "source": [
        "---\n",
        "# Validation\n",
        "\n",
        "**Read Validation Dataset with Out-of-Distribution Samples**"
      ]
    },
    {
      "cell_type": "code",
      "execution_count": null,
      "metadata": {
        "id": "UHTj9nbJ9kk-"
      },
      "outputs": [],
      "source": [
        "VALIDATION_DF_PATH = \"https://raw.githubusercontent.com/TrusteeML/emperor/main/use_cases/heartbleed_case/res/dataset/validation/heartbleed.csv\"\n",
        "\n",
        "X_validate, y_validate, _, _, _ = dataset.read(VALIDATION_DF_PATH, metadata=CIC_IDS_2017_DATASET_META, as_df=True)\n"
      ]
    },
    {
      "cell_type": "markdown",
      "metadata": {
        "id": "xt4KM9FR_3ZA"
      },
      "source": [
        "**Use Validation dataset to evaluate trained Random Forest Classifier**\n"
      ]
    },
    {
      "cell_type": "code",
      "execution_count": null,
      "metadata": {
        "id": "CA6KU3Ss_6aU"
      },
      "outputs": [],
      "source": [
        "y_val_pred = blackbox.predict(X_validate)\n",
        "\n",
        "print(\"Blackbox model classification report with OOD:\")\n",
        "print(\n",
        "    \"\\n{}\".format(\n",
        "        classification_report(\n",
        "            y_validate,\n",
        "            y_val_pred,\n",
        "            digits=3,\n",
        "            target_names=[\"BENIGN\", \"Heartbleed\"],\n",
        "        )\n",
        "    )\n",
        ")"
      ]
    },
    {
      "cell_type": "markdown",
      "metadata": {
        "id": "dBgcAicvZwW-"
      },
      "source": [
        "---\n",
        "# Trust Report\n",
        "\n",
        "Run Trust Report on trained Random Forest Classifier\n",
        "\n",
        "<font color=\"blue\">`class trustee.report.trust.TrustReport(blackbox, X=None, y=None, X_train=None, X_test=None, y_train=None, y_test=None, max_iter=10, num_pruning_iter=10, train_size=0.7, predict_method_name='predict', trustee_num_iter=50, trustee_num_stability_iter=10, trustee_sample_size=0.5, trustee_max_leaf_nodes=None, trustee_max_depth=None, trustee_ccp_alpha=0.0, analyze_branches=False, analyze_stability=False, skip_retrain=False, top_k=10, logger=None, verbose=False, class_names=None, feature_names=None, is_classify=True)`</font>\n",
        "\n"
      ]
    },
    {
      "cell_type": "markdown",
      "source": [
        "Bases: `object`\n",
        "\n",
        "Class to generate Trust Report.\n",
        "\n",
        "Builds Trust Report for given blackbox model using the Trustee method to extract whitebox explanations as Decision Trees.\n",
        "\n",
        "**PARAMETERS:**\n",
        "* **blackbox** *(object)* – The ML blackbox model to analyze. The expert model must have a predict method call implemented for Trustee to work properly, unless explicitly stated otherwise using the predict_method_name.\n",
        "* **X** *({array-like, sparse matrix} of shape (n_samples, n_features))* – The training input samples. Internally, it will be converted to a pandas DataFrame. Either (X, y) or (X_train, X_test, y_train, y_test) must be provided.\n",
        "* **y** *(array-like of shape (n_samples,) or (n_samples, n_outputs))* – The target values for X (class labels in classification, real numbers in regression). Internally, it will be converted to a pandas Series. Either (X, y) or (X_train, X_test, y_train, y_test) must be provided.\n",
        "* **X_train** *({array-like, sparse matrix} of shape (n_samples, n_features))* – The training input samples. Internally, it will be converted to a pandas DataFrame. Use this argument if a fixed train-test split is to be used. Either (X, y) or (X_train, X_test, y_train, y_test) must be provided.\n",
        "* **X_test** *({array-like, sparse matrix} of shape (n_samples, n_features))* – The training input samples. Internally, it will be converted to a pandas DataFrame. Use this argument if a fixed train-test split is to be used. Either (X, y) or (X_train, X_test, y_train, y_test) must be provided.\n",
        "* **y_train** *(array-like of shape (n_samples,) or (n_samples, n_outputs))* – The target values for X (class labels in classification, real numbers in regression). Internally, it will be converted to a pandas Series. Use this argument if a fixed train-test split is to be used. Either (X, y) or (X_train, X_test, y_train, y_test) must be provided.\n",
        "* **y** – The target values for X (class labels in classification, real numbers in regression). Internally, it will be converted to a pandas Series. Use this argument if a fixed train-test split is to be used. Either (X, y) or (X_train, X_test, y_train, y_test) must be provided.\n",
        "* **max_iter** *(int, default=10)* – Number of iterations to repeat several analyses in the Trust Report, including feature removal and branch analysis.\n",
        "* **num_pruning_iter** *(int, default=10)* – Number of iterations to repeat the pruning analysis.\n",
        "* **train_size** *(float or int, default=0.7)* – If float, should be between 0.0 and 1.0 and represent the proportion of the dataset to include in the train split. If int, represents the absolute number of train samples.\n",
        "* **predict_method_name** *(str, default=\"predict\")* – The method interface to use to get predictions from the expert model. If no value is passed, the default predict interface is used.\n",
        "* **trustee_num_iter** *(int, default=50)* – Number of iterations to repeat Trustee inner-loop for.\n",
        "* **trustee_num_stability_iter** *(int, default=5)* – Number of stability to repeat Trustee stabilization outer-loop for.\n",
        "* **trustee_samples_size** *(float, default=None)* – The fraction of the training dataset to use to train the student decision tree model. If None, the value is automatically set to the num_samples provided value.\n",
        "* **trustee_max_leaf_nodes** *(int, default=None)* – Grow a tree with max_leaf_nodes in best-first fashion. Best nodes are defined as relative reduction in impurity. If None then unlimited number of leaf nodes.\n",
        "* **trustee_max_depth** *(int, default=None)* – The maximum depth of the tree. If None, then nodes are expanded until all leaves are pure.\n",
        "* **trustee_ccp_alpha** *(float, default=0.0)* – Complexity parameter used for Minimal Cost-Complexity Pruning. The subtree with the largest cost complexity that is smaller than ccp_alpha will be chosen. By default, no pruning is performed. See Minimal Cost-Complexity Pruning here for details: https://scikit-learn.org/stable/modules/tree.html#minimal-cost-complexity-pruning\n",
        "* **analyze_branches** *(bool, default=False)* – Boolean indicating whether to perform the Trust Report branch analysis of Trustee explanations.\n",
        "* **analyze_stability** *(bool, default=False)* – Boolean indicating whether to perform the Trust Report stability analysis of Trustee explanations.\n",
        "* **skip_retrain** *(bool, default=False)* – Boolean indicating whether the Trust Report should attempt to retrain the given blackbox model. Used to evaluate the impact of each feature in training by iteratively removing top features. Works well for scikit-explain model, but can be troublesome for other libraries (especially AutoGluon).\n",
        "* **top_k** *(int, default=10)* – Number of top-k branches, sorted by number of samples per branch, to keep after finding decision tree with highest fidelity.\n",
        "* **verbose** *(bool, default=False)* – Boolean indicating whether to log messages.\n",
        "* **logger** *(Logger object , default=None)* – A logger object to log messages to. If none is given, the print() method will be used to log messages.\n",
        "* **class_names** *(array-like of str, default=None)* – List of class names to use when plotting decision trees and graphs.\n",
        "* **feature_names** *(array-like of str, default=None,)* – List of feature names to use when plotting decision trees and graphs.\n",
        "* **is_classify** *(bool, default=True,)* – Whether given blackbox is a classifier or regressor. The outputted plots change depending on chosen value."
      ],
      "metadata": {
        "id": "HJzAgFJDEYdR"
      }
    },
    {
      "cell_type": "code",
      "execution_count": null,
      "metadata": {
        "id": "iQS0hhSxZ_x9"
      },
      "outputs": [],
      "source": [
        "from trustee.report.trust import TrustReport\n",
        "\n",
        "trust_report = TrustReport(\n",
        "    blackbox,\n",
        "    X=X,\n",
        "    y=y,\n",
        "    top_k=10,\n",
        "    max_iter=5,\n",
        "    trustee_num_iter=30,\n",
        "    num_pruning_iter=10,\n",
        "    trustee_num_stability_iter=5,\n",
        "    trustee_sample_size=0.30,\n",
        "    analyze_stability=True,\n",
        "    skip_retrain=False,\n",
        "    feature_names=feature_names,\n",
        "    class_names=CIC_IDS_2017_DATASET_META[\"classes\"],\n",
        "    verbose=True,\n",
        ")\n",
        "\n",
        "print(trust_report)"
      ]
    },
    {
      "cell_type": "markdown",
      "source": [
        "**Saves several graphs for further inspection**"
      ],
      "metadata": {
        "id": "mvxKQUtm8h9Q"
      }
    },
    {
      "cell_type": "code",
      "execution_count": null,
      "metadata": {
        "id": "HApsEvxQ0nuk"
      },
      "outputs": [],
      "source": [
        "import warnings\n",
        "warnings.filterwarnings(\"ignore\")\n",
        "\n",
        "OUTPUT_PATH = \"res/output\"\n",
        "trust_report.save(OUTPUT_PATH)\n",
        "\n",
        "# warning: execution time ~ 30 minutes"
      ]
    }
  ],
  "metadata": {
    "colab": {
      "provenance": [],
      "gpuType": "T4"
    },
    "kernelspec": {
      "display_name": "Python 3",
      "name": "python3"
    },
    "language_info": {
      "name": "python"
    }
  },
  "nbformat": 4,
  "nbformat_minor": 0
}