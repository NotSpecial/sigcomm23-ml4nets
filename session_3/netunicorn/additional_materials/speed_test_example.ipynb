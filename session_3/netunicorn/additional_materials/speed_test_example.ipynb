{
 "cells": [
  {
   "cell_type": "markdown",
   "metadata": {},
   "source": [
    "# Basic Ookla Speed Test example\n",
    "\n",
    "In this scenario, we will measure speed test results from Ookle speedtest-cli utility, capture PCAPs during measurements and upload them to a file storage for future access.\n",
    "\n",
    "Let's import base classes and particular tasks that we will use:"
   ]
  },
  {
   "cell_type": "code",
   "execution_count": 1,
   "metadata": {
    "tags": []
   },
   "outputs": [],
   "source": [
    "import os\n",
    "import time\n",
    "\n",
    "from netunicorn.client.remote import RemoteClient, RemoteClientException\n",
    "from netunicorn.base import Experiment, ExperimentStatus, Pipeline\n",
    "\n",
    "# Task using speedtest-cli to measure speedtest\n",
    "from netunicorn.library.tasks.measurements.ookla_speedtest import SpeedTest\n",
    "\n",
    "# Tasks to start tcpdump and stop named tcpdump task\n",
    "from netunicorn.library.tasks.capture.tcpdump import StartCapture, StopNamedCapture\n",
    "\n",
    "# Upload to file.io - public anonymous temporary file storage\n",
    "from netunicorn.library.tasks.upload.fileio import UploadToFileIO"
   ]
  },
  {
   "cell_type": "markdown",
   "metadata": {},
   "source": [
    "Now, let's create a pipeline. We would like to start the tcpdump (network traffic capturing), then do speedtest several times, then stop capturing the data and upload it to some temporary file storage (we chose `https://file.io` website for this, and no, they haven't paid us for the advertisement)."
   ]
  },
  {
   "cell_type": "code",
   "execution_count": 2,
   "metadata": {},
   "outputs": [],
   "source": [
    "pipeline = (\n",
    "    Pipeline()\n",
    "    .then(StartCapture(filepath=\"/tmp/capture.pcap\", name=\"capture\"))\n",
    ")\n",
    "\n",
    "for _ in range(3):\n",
    "    pipeline.then(SpeedTest())\n",
    "\n",
    "pipeline = (\n",
    "    pipeline\n",
    "    .then(StopNamedCapture(start_capture_task_name=\"capture\"))\n",
    "    .then(UploadToFileIO(filepath=\"/tmp/capture.pcap\", expires=\"1d\"))\n",
    ")"
   ]
  },
  {
   "cell_type": "markdown",
   "metadata": {},
   "source": [
    "After we decided what our pipeline would look like, we need to connect to some netunicorn instance and get nodes we will run our pipeline on. If you have `.env` file with credential in the folder, we need to read it, and then try to read needed parameters from environment variables.\n",
    "\n",
    "If no `.env` file or parameters in environment variables are provided, let's assume you're working with local installation of netunicorn with the default endpoint address and credentials. If this is not the case, feel free to modify the next variables."
   ]
  },
  {
   "cell_type": "code",
   "execution_count": 3,
   "metadata": {
    "tags": []
   },
   "outputs": [],
   "source": [
    "# if you have .env file locally for storing credentials, skip otherwise\n",
    "if '.env' in os.listdir():\n",
    "    from dotenv import load_dotenv\n",
    "    load_dotenv(\".env\")"
   ]
  },
  {
   "cell_type": "code",
   "execution_count": 4,
   "metadata": {
    "tags": []
   },
   "outputs": [],
   "source": [
    "NETUNICORN_ENDPOINT = os.environ.get('NETUNICORN_ENDPOINT', 'http://localhost:26611')\n",
    "NETUNICORN_LOGIN = os.environ.get('NETUNICORN_LOGIN', 'test')\n",
    "NETUNICORN_PASSWORD = os.environ.get('NETUNICORN_PASSWORD', 'test')"
   ]
  },
  {
   "cell_type": "markdown",
   "metadata": {},
   "source": [
    "Connect to the instance and verify that it's healthy."
   ]
  },
  {
   "cell_type": "code",
   "execution_count": 5,
   "metadata": {
    "tags": []
   },
   "outputs": [
    {
     "data": {
      "text/plain": [
       "True"
      ]
     },
     "execution_count": 5,
     "metadata": {},
     "output_type": "execute_result"
    }
   ],
   "source": [
    "client = RemoteClient(endpoint=NETUNICORN_ENDPOINT, login=NETUNICORN_LOGIN, password=NETUNICORN_PASSWORD)\n",
    "client.healthcheck()"
   ]
  },
  {
   "cell_type": "markdown",
   "metadata": {},
   "source": [
    "Great!\n",
    "\n",
    "Now, let's ask for some nodes. For demonstration purposes we will take some nodes from our infrastructures that have names like `raspi-blablabla` (look at the filter function below). If you have local installation, let's take a single node. If you use your own infrastructure, feel free to modify the example."
   ]
  },
  {
   "cell_type": "code",
   "execution_count": 6,
   "metadata": {},
   "outputs": [],
   "source": [
    "nodes = client.get_nodes()"
   ]
  },
  {
   "cell_type": "code",
   "execution_count": 7,
   "metadata": {},
   "outputs": [
    {
     "data": {
      "text/plain": [
       "[dockerhost]"
      ]
     },
     "execution_count": 7,
     "metadata": {},
     "output_type": "execute_result"
    }
   ],
   "source": [
    "# switch for showing our infrastructure vs you doing it locally on other nodes\n",
    "if os.environ.get('NETUNICORN_ENDPOINT', 'http://localhost:26611') != 'http://localhost:26611':\n",
    "    working_nodes = nodes.filter(lambda node: node.name.startswith(\"raspi\")).take(5)\n",
    "else:\n",
    "    working_nodes = nodes.take(1)\n",
    "\n",
    "working_nodes"
   ]
  },
  {
   "cell_type": "markdown",
   "metadata": {},
   "source": [
    "Afterwards, we need to create the experiment -- let's assign the same pipeline to all nodes!"
   ]
  },
  {
   "cell_type": "code",
   "execution_count": 8,
   "metadata": {},
   "outputs": [],
   "source": [
    "experiment = Experiment().map(pipeline, working_nodes)"
   ]
  },
  {
   "cell_type": "code",
   "execution_count": 9,
   "metadata": {},
   "outputs": [
    {
     "data": {
      "text/plain": [
       " - Deployment: Node=dockerhost, executor_id=, prepared=False"
      ]
     },
     "execution_count": 9,
     "metadata": {},
     "output_type": "execute_result"
    }
   ],
   "source": [
    "experiment"
   ]
  },
  {
   "cell_type": "markdown",
   "metadata": {},
   "source": [
    "Now, we defined the pipeline and the experiment, so it's time to prepare it..."
   ]
  },
  {
   "cell_type": "code",
   "execution_count": 10,
   "metadata": {},
   "outputs": [
    {
     "data": {
      "text/plain": [
       "'speed_test_example'"
      ]
     },
     "execution_count": 10,
     "metadata": {},
     "output_type": "execute_result"
    }
   ],
   "source": [
    "experiment_label = \"speed_test_example\"\n",
    "try:\n",
    "    client.delete_experiment(experiment_label)\n",
    "except RemoteClientException:\n",
    "    pass\n",
    "\n",
    "client.prepare_experiment(experiment, experiment_label)"
   ]
  },
  {
   "cell_type": "markdown",
   "metadata": {},
   "source": [
    "...and wait while it's compiling and distributing to nodes."
   ]
  },
  {
   "cell_type": "code",
   "execution_count": 11,
   "metadata": {},
   "outputs": [
    {
     "name": "stdout",
     "output_type": "stream",
     "text": [
      "ExperimentStatus.PREPARING\n",
      "ExperimentStatus.PREPARING\n",
      "ExperimentStatus.READY\n"
     ]
    }
   ],
   "source": [
    "while True:\n",
    "    info = client.get_experiment_status(experiment_label)\n",
    "    print(info.status)\n",
    "    if info.status == ExperimentStatus.READY:\n",
    "        break\n",
    "    time.sleep(20)"
   ]
  },
  {
   "cell_type": "markdown",
   "metadata": {},
   "source": [
    "As soon as the experiment is READY, let's start it."
   ]
  },
  {
   "cell_type": "code",
   "execution_count": 12,
   "metadata": {},
   "outputs": [
    {
     "data": {
      "text/plain": [
       "'speed_test_example'"
      ]
     },
     "execution_count": 12,
     "metadata": {},
     "output_type": "execute_result"
    }
   ],
   "source": [
    "client.start_execution(experiment_label)"
   ]
  },
  {
   "cell_type": "code",
   "execution_count": 13,
   "metadata": {},
   "outputs": [
    {
     "name": "stdout",
     "output_type": "stream",
     "text": [
      "ExperimentStatus.RUNNING\n",
      "ExperimentStatus.RUNNING\n",
      "ExperimentStatus.RUNNING\n",
      "ExperimentStatus.RUNNING\n",
      "ExperimentStatus.RUNNING\n",
      "ExperimentStatus.RUNNING\n",
      "ExperimentStatus.RUNNING\n",
      "ExperimentStatus.FINISHED\n"
     ]
    }
   ],
   "source": [
    "while True:\n",
    "    info = client.get_experiment_status(experiment_label)\n",
    "    print(info.status)\n",
    "    if info.status != ExperimentStatus.RUNNING:\n",
    "        break\n",
    "    time.sleep(20)"
   ]
  },
  {
   "cell_type": "markdown",
   "metadata": {},
   "source": [
    "If (we hope in your case too) the experiment is finished, we can explore the resulting object with execution information, such as errors, results of execution, and raw logs of all tasks in each deployment. "
   ]
  },
  {
   "cell_type": "code",
   "execution_count": 14,
   "metadata": {
    "tags": []
   },
   "outputs": [
    {
     "name": "stdout",
     "output_type": "stream",
     "text": [
      "Node name: dockerhost\n",
      "Error: None\n",
      "Result is: <class 'returns.result.Success'>\n",
      "capture: [<Success: 11>]\n",
      "60b80ed9-82a2-4598-81e8-0cbfede909dc: [<Success: {'ping': {'value': 9.761, 'unit': 'ms'}, 'download': {'value': 218.16, 'unit': 'Mbit/s'}, 'upload': {'value': 178.99, 'unit': 'Mbit/s'}}>]\n",
      "868cef7f-bff4-4b35-8e04-2bb4a8f463f2: [<Success: {'ping': {'value': 7.891, 'unit': 'ms'}, 'download': {'value': 88.76, 'unit': 'Mbit/s'}, 'upload': {'value': 174.2, 'unit': 'Mbit/s'}}>]\n",
      "61094a14-096f-4328-b35b-9376835fd81d: [<Success: {'ping': {'value': 8.146, 'unit': 'ms'}, 'download': {'value': 198.27, 'unit': 'Mbit/s'}, 'upload': {'value': 175.43, 'unit': 'Mbit/s'}}>]\n",
      "3890f933-290c-4e59-be8a-6ae954aa3eb3: [<Success: b''>]\n",
      "2a3ce38c-a8bd-49c1-8fbf-137b73b18cc3: [<Success: {\"success\":true,\"status\":200,\"id\":\"e2695940-3e1e-11ee-b46c-e3d7b7473aec\",\"key\":\"8GCrp5wLCsT3\",\"path\":\"/\",\"nodeType\":\"file\",\"name\":\"capture.pcap\",\"title\":null,\"description\":null,\"size\":1170186273,\"link\":\"https://file.io/8GCrp5wLCsT3\",\"private\":false,\"expires\":\"2023-08-19T23:28:06.343Z\",\"downloads\":0,\"maxDownloads\":1,\"autoDelete\":true,\"planId\":0,\"screeningStatus\":\"pending\",\"mimeType\":\"application/octet-stream\",\"created\":\"2023-08-18T23:28:06.343Z\",\"modified\":\"2023-08-18T23:28:06.343Z\"}>]\n",
      "Parsed configuration: Gateway located on http://gateway:26512\n",
      "Current directory: /\n",
      "Pipeline loaded from local file, executing.\n",
      "Pipeline finished, start reporting results.\n",
      "\n"
     ]
    }
   ],
   "source": [
    "from returns.pipeline import is_successful\n",
    "\n",
    "for report in info.execution_result:\n",
    "    print(f\"Node name: {report.node.name}\")\n",
    "    print(f\"Error: {report.error}\")\n",
    "\n",
    "    result, log = report.result  # report stores results of execution and corresponding log\n",
    "    \n",
    "    # result is a returns.result.Result object, could be Success of Failure\n",
    "    print(f\"Result is: {type(result)}\")\n",
    "    data = result.unwrap() if is_successful(result) else result\n",
    "    for key, value in data.items():\n",
    "        print(f\"{key}: {value}\")\n",
    "\n",
    "    # we also can explore logs\n",
    "    for line in log:\n",
    "        print(line.strip())\n",
    "    print()"
   ]
  },
  {
   "cell_type": "markdown",
   "metadata": {},
   "source": [
    "As you see, in this example we successfully measured speed test several times from our nodes, captured the traffic and uploaded the data to the cloud. Now the only thing left is to explore it and draw some conclusions, but we will leave this to you. :)\n",
    "\n",
    "Please, visit the https://netunicorn.cs.ucsb.edu website if you look for additional documentation or information regarding this platform, usage, and API."
   ]
  }
 ],
 "metadata": {
  "kernelspec": {
   "display_name": "Python 3 (ipykernel)",
   "language": "python",
   "name": "python3"
  },
  "language_info": {
   "codemirror_mode": {
    "name": "ipython",
    "version": 3
   },
   "file_extension": ".py",
   "mimetype": "text/x-python",
   "name": "python",
   "nbconvert_exporter": "python",
   "pygments_lexer": "ipython3",
   "version": "3.11.0"
  }
 },
 "nbformat": 4,
 "nbformat_minor": 4
}
